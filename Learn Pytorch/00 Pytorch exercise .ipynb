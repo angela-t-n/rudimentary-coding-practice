import torch

# Q-1,2,3,4,
RANDOM_SEED = 0
torch.manual_seed(seed=RANDOM_SEED)

randTensor = torch.rand(size = (7,7))
randTensor2 = torch.rand(size = (1, 7))

mul1and2 = torch.mm(randTensor, randTensor2.T)

# Q-5, 6
# set the runtime of the notebook to gpu
device = "cuda" if torch.cuda.is_available() else "cpu"

RANDOM_SEED = 1234
torch.manual_seed(seed=RANDOM_SEED)

randTenGPU1 = torch.rand(size = (2,3)).to(device)
randTenGPU2 = torch.rand(size = (2,3)).to(device)

# Q-7
randTenGPUMul = torch.mm(randTenGPU1, randTenGPU2.T)

# Q-8
randTenGPUMul
randTenGPUMul.max()
randTenGPUMul.min()

# Q-9
randTenGPUMul.argmax()
randTenGPUMul.argmin()

# Q-10
RANDOM_SEED = 7
torch.manual_seed(seed = RANDOM_SEED)

unsquishedTensor = torch.rand(size = (1, 1, 1, 10))
squishedTensor = unsquishedTensor.squeeze()
