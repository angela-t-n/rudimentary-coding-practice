{
  "nbformat": 4,
  "nbformat_minor": 0,
  "metadata": {
    "colab": {
      "provenance": []
    },
    "kernelspec": {
      "name": "python3",
      "display_name": "Python 3"
    },
    "language_info": {
      "name": "python"
    },
    "accelerator": "GPU",
    "gpuClass": "standard"
  },
  "cells": [
    {
      "cell_type": "code",
      "execution_count": 16,
      "metadata": {
        "id": "JMreciENwRSD"
      },
      "outputs": [],
      "source": [
        "import torch\n",
        "\n",
        "# Q-1,2,3,4,\n",
        "RANDOM_SEED = 0\n",
        "torch.manual_seed(seed=RANDOM_SEED)\n",
        "\n",
        "randTensor = torch.rand(size = (7,7))\n",
        "randTensor2 = torch.rand(size = (1, 7))\n",
        "\n",
        "mul1and2 = torch.mm(randTensor, randTensor2.T)\n",
        "\n",
        "# Q-5, 6\n",
        "# set the runtime of the notebook to gpu\n",
        "device = \"cuda\" if torch.cuda.is_available() else \"cpu\"\n",
        "\n",
        "RANDOM_SEED = 1234\n",
        "torch.manual_seed(seed=RANDOM_SEED)\n",
        "\n",
        "randTenGPU1 = torch.rand(size = (2,3)).to(device)\n",
        "randTenGPU2 = torch.rand(size = (2,3)).to(device)\n",
        "\n",
        "# Q-7\n",
        "randTenGPUMul = torch.mm(randTenGPU1, randTenGPU2.T)\n",
        "\n",
        "# Q-8\n",
        "randTenGPUMul\n",
        "randTenGPUMul.max()\n",
        "randTenGPUMul.min()\n",
        "\n",
        "# Q-9\n",
        "randTenGPUMul.argmax()\n",
        "randTenGPUMul.argmin()\n",
        "\n",
        "# Q-10\n",
        "RANDOM_SEED = 7\n",
        "torch.manual_seed(seed = RANDOM_SEED)\n",
        "\n",
        "unsquishedTensor = torch.rand(size = (1, 1, 1, 10))\n",
        "squishedTensor = unsquishedTensor.squeeze()\n"
      ]
    }
  ]
}